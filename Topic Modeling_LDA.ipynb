{
 "cells": [
  {
   "attachments": {},
   "cell_type": "markdown",
   "metadata": {},
   "source": [
    "# LDA를 이용한 Topic modeling\n",
    "## 목차\n",
    "    1. Data 탐색  \n",
    "        1-1 데이터 로드  \n",
    "\n",
    "    2. TF-IDF Matrix  \n",
    "        2-1 CountVectorizer를 이용한 term-docs TF Matrix 생성    \n",
    "        2-2 IDF 생성 및 계산  \n",
    "        2-3 TF-IDF Matrix 생성 및 계산  \n",
    "\n",
    "    3. Topic Modeling\n",
    "        3-1 LDA(LDA(Latent Dirichlet Allocation)\n",
    "        3-2 토픽의 수에 따른 토픽 및 분포 확인\n",
    "            *토픽 수 5개\n",
    "            *토픽 수 4개\n",
    "            *토픽 수 3개\n",
    "        3-3 최적의 Topic 수를 선정 및 선정 이유\n",
    "        3-4 최종 Topic Labeling (Keyword들을 고려하여 적합한 이름을 부여)"
   ]
  },
  {
   "cell_type": "code",
   "execution_count": 1,
   "metadata": {},
   "outputs": [],
   "source": [
    "import pandas as pd\n",
    "from sklearn.feature_extraction.text import CountVectorizer\n",
    "\n",
    "from math import log\n",
    "import numpy as np\n",
    "from sklearn.decomposition import LatentDirichletAllocation\n",
    "import seaborn as sns"
   ]
  },
  {
   "cell_type": "markdown",
   "metadata": {},
   "source": [
    "## 1. 데이터 탐색\n",
    "### 1-1 데이터 로드"
   ]
  },
  {
   "cell_type": "code",
   "execution_count": 2,
   "metadata": {},
   "outputs": [
    {
     "data": {
      "text/plain": [
       "['cute kitty',\n",
       " 'eat rice cake',\n",
       " 'kitty hamster',\n",
       " 'eat bread',\n",
       " 'rice bread cake',\n",
       " 'cute hamster eat bread cake']"
      ]
     },
     "execution_count": 2,
     "metadata": {},
     "output_type": "execute_result"
    }
   ],
   "source": [
    "f = open('./data/data_week10.txt','r')\n",
    "\n",
    "docs = []\n",
    "while True:\n",
    "    line = f.readline()\n",
    "    if line == '':\n",
    "        break    \n",
    "    else:\n",
    "        docs.append(line.strip())\n",
    "    \n",
    "f.close()\n",
    "docs"
   ]
  },
  {
   "cell_type": "markdown",
   "metadata": {},
   "source": [
    "* docs리스트 내의 하나의 요소가 1개의 문서이므로 추후 만들 Matrix의 index 설정"
   ]
  },
  {
   "cell_type": "code",
   "execution_count": 3,
   "metadata": {},
   "outputs": [
    {
     "data": {
      "text/plain": [
       "['Docs1', 'Docs2', 'Docs3', 'Docs4', 'Docs5', 'Docs6']"
      ]
     },
     "execution_count": 3,
     "metadata": {},
     "output_type": "execute_result"
    }
   ],
   "source": [
    "docs_index = ['Docs'+str(i) for i in range(1,7)]\n",
    "docs_index"
   ]
  },
  {
   "cell_type": "markdown",
   "metadata": {},
   "source": [
    "## 2. TF-IDF Matrix\n",
    "### 2-1 CountVectorizer를 이용한 term-docs TF Matrix 생성"
   ]
  },
  {
   "cell_type": "code",
   "execution_count": 4,
   "metadata": {},
   "outputs": [
    {
     "name": "stdout",
     "output_type": "stream",
     "text": [
      "['bread', 'cake', 'cute', 'eat', 'hamster', 'kitty', 'rice']\n",
      "[[0, 0, 1, 0, 0, 1, 0], [0, 1, 0, 1, 0, 0, 1], [0, 0, 0, 0, 1, 1, 0], [1, 0, 0, 1, 0, 0, 0], [1, 1, 0, 0, 0, 0, 1], [1, 1, 1, 1, 1, 0, 0]]\n"
     ]
    }
   ],
   "source": [
    "vectorizer = CountVectorizer(stop_words='english')\n",
    "TFM = vectorizer.fit_transform(docs)\n",
    "\n",
    "print(vectorizer.get_feature_names())\n",
    "print(TFM.toarray().tolist())"
   ]
  },
  {
   "cell_type": "code",
   "execution_count": 5,
   "metadata": {},
   "outputs": [
    {
     "name": "stdout",
     "output_type": "stream",
     "text": [
      "bread 3\n",
      "cake 3\n",
      "cute 2\n",
      "eat 3\n",
      "hamster 2\n",
      "kitty 2\n",
      "rice 2\n"
     ]
    },
    {
     "data": {
      "text/html": [
       "<div>\n",
       "<style scoped>\n",
       "    .dataframe tbody tr th:only-of-type {\n",
       "        vertical-align: middle;\n",
       "    }\n",
       "\n",
       "    .dataframe tbody tr th {\n",
       "        vertical-align: top;\n",
       "    }\n",
       "\n",
       "    .dataframe thead th {\n",
       "        text-align: right;\n",
       "    }\n",
       "</style>\n",
       "<table border=\"1\" class=\"dataframe\">\n",
       "  <thead>\n",
       "    <tr style=\"text-align: right;\">\n",
       "      <th></th>\n",
       "      <th>bread</th>\n",
       "      <th>cake</th>\n",
       "      <th>cute</th>\n",
       "      <th>eat</th>\n",
       "      <th>hamster</th>\n",
       "      <th>kitty</th>\n",
       "      <th>rice</th>\n",
       "    </tr>\n",
       "  </thead>\n",
       "  <tbody>\n",
       "    <tr>\n",
       "      <th>Docs1</th>\n",
       "      <td>0</td>\n",
       "      <td>0</td>\n",
       "      <td>1</td>\n",
       "      <td>0</td>\n",
       "      <td>0</td>\n",
       "      <td>1</td>\n",
       "      <td>0</td>\n",
       "    </tr>\n",
       "    <tr>\n",
       "      <th>Docs2</th>\n",
       "      <td>0</td>\n",
       "      <td>1</td>\n",
       "      <td>0</td>\n",
       "      <td>1</td>\n",
       "      <td>0</td>\n",
       "      <td>0</td>\n",
       "      <td>1</td>\n",
       "    </tr>\n",
       "    <tr>\n",
       "      <th>Docs3</th>\n",
       "      <td>0</td>\n",
       "      <td>0</td>\n",
       "      <td>0</td>\n",
       "      <td>0</td>\n",
       "      <td>1</td>\n",
       "      <td>1</td>\n",
       "      <td>0</td>\n",
       "    </tr>\n",
       "    <tr>\n",
       "      <th>Docs4</th>\n",
       "      <td>1</td>\n",
       "      <td>0</td>\n",
       "      <td>0</td>\n",
       "      <td>1</td>\n",
       "      <td>0</td>\n",
       "      <td>0</td>\n",
       "      <td>0</td>\n",
       "    </tr>\n",
       "    <tr>\n",
       "      <th>Docs5</th>\n",
       "      <td>1</td>\n",
       "      <td>1</td>\n",
       "      <td>0</td>\n",
       "      <td>0</td>\n",
       "      <td>0</td>\n",
       "      <td>0</td>\n",
       "      <td>1</td>\n",
       "    </tr>\n",
       "    <tr>\n",
       "      <th>Docs6</th>\n",
       "      <td>1</td>\n",
       "      <td>1</td>\n",
       "      <td>1</td>\n",
       "      <td>1</td>\n",
       "      <td>1</td>\n",
       "      <td>0</td>\n",
       "      <td>0</td>\n",
       "    </tr>\n",
       "  </tbody>\n",
       "</table>\n",
       "</div>"
      ],
      "text/plain": [
       "       bread  cake  cute  eat  hamster  kitty  rice\n",
       "Docs1      0     0     1    0        0      1     0\n",
       "Docs2      0     1     0    1        0      0     1\n",
       "Docs3      0     0     0    0        1      1     0\n",
       "Docs4      1     0     0    1        0      0     0\n",
       "Docs5      1     1     0    0        0      0     1\n",
       "Docs6      1     1     1    1        1      0     0"
      ]
     },
     "execution_count": 5,
     "metadata": {},
     "output_type": "execute_result"
    }
   ],
   "source": [
    "TF = pd.DataFrame(TFM.toarray().tolist(), index= docs_index, columns= vectorizer.get_feature_names())\n",
    "for i in TF.columns:\n",
    "    print(i, TF[i].sum())\n",
    "TF"
   ]
  },
  {
   "cell_type": "markdown",
   "metadata": {},
   "source": [
    "### 2-2 IDF 생성 및 계산\n",
    "    idf(d,t)=log(n / (1+df(t)) )\n",
    "    N = 6,N : 전체 docs의 수\n",
    "    df(t : term) : 각 단어가 속한 문서의 수\n",
    "\n",
    "    df(bread)  3\n",
    "    df(cake) : 3\n",
    "    df(cute) : 2\n",
    "    df(eat) :  3\n",
    "    df(hamster): 2\n",
    "    df(kitty): 2\n",
    "    df(rice) : 2"
   ]
  },
  {
   "cell_type": "code",
   "execution_count": 6,
   "metadata": {},
   "outputs": [
    {
     "data": {
      "text/plain": [
       "['bread', 'cake', 'cute', 'eat', 'hamster', 'kitty', 'rice']"
      ]
     },
     "execution_count": 6,
     "metadata": {},
     "output_type": "execute_result"
    }
   ],
   "source": [
    "terms = vectorizer.get_feature_names()\n",
    "terms"
   ]
  },
  {
   "cell_type": "code",
   "execution_count": 7,
   "metadata": {},
   "outputs": [
    {
     "data": {
      "text/plain": [
       "[0.4055, 0.4055, 0.6931, 0.4055, 0.6931, 0.6931, 0.6931]"
      ]
     },
     "execution_count": 7,
     "metadata": {},
     "output_type": "execute_result"
    }
   ],
   "source": [
    "N = 6 \n",
    "df_t = [3,3,2,3,2,2,2]\n",
    "idf= []\n",
    "# 각 단어에 대한 idf값 계산\n",
    "for i, dft in zip(terms, df_t):\n",
    "    idf.append(round(log( N / (1+dft ) ),4))\n",
    "idf"
   ]
  },
  {
   "cell_type": "code",
   "execution_count": 8,
   "metadata": {},
   "outputs": [
    {
     "data": {
      "text/plain": [
       "array([0.4055, 0.4055, 0.6931, 0.4055, 0.6931, 0.6931, 0.6931])"
      ]
     },
     "execution_count": 8,
     "metadata": {},
     "output_type": "execute_result"
    }
   ],
   "source": [
    "idf= np.array(idf)\n",
    "idf"
   ]
  },
  {
   "cell_type": "code",
   "execution_count": 9,
   "metadata": {},
   "outputs": [
    {
     "data": {
      "text/html": [
       "<div>\n",
       "<style scoped>\n",
       "    .dataframe tbody tr th:only-of-type {\n",
       "        vertical-align: middle;\n",
       "    }\n",
       "\n",
       "    .dataframe tbody tr th {\n",
       "        vertical-align: top;\n",
       "    }\n",
       "\n",
       "    .dataframe thead th {\n",
       "        text-align: right;\n",
       "    }\n",
       "</style>\n",
       "<table border=\"1\" class=\"dataframe\">\n",
       "  <thead>\n",
       "    <tr style=\"text-align: right;\">\n",
       "      <th></th>\n",
       "      <th>idf</th>\n",
       "    </tr>\n",
       "  </thead>\n",
       "  <tbody>\n",
       "    <tr>\n",
       "      <th>bread</th>\n",
       "      <td>0.4055</td>\n",
       "    </tr>\n",
       "    <tr>\n",
       "      <th>cake</th>\n",
       "      <td>0.4055</td>\n",
       "    </tr>\n",
       "    <tr>\n",
       "      <th>cute</th>\n",
       "      <td>0.6931</td>\n",
       "    </tr>\n",
       "    <tr>\n",
       "      <th>eat</th>\n",
       "      <td>0.4055</td>\n",
       "    </tr>\n",
       "    <tr>\n",
       "      <th>hamster</th>\n",
       "      <td>0.6931</td>\n",
       "    </tr>\n",
       "    <tr>\n",
       "      <th>kitty</th>\n",
       "      <td>0.6931</td>\n",
       "    </tr>\n",
       "    <tr>\n",
       "      <th>rice</th>\n",
       "      <td>0.6931</td>\n",
       "    </tr>\n",
       "  </tbody>\n",
       "</table>\n",
       "</div>"
      ],
      "text/plain": [
       "            idf\n",
       "bread    0.4055\n",
       "cake     0.4055\n",
       "cute     0.6931\n",
       "eat      0.4055\n",
       "hamster  0.6931\n",
       "kitty    0.6931\n",
       "rice     0.6931"
      ]
     },
     "execution_count": 9,
     "metadata": {},
     "output_type": "execute_result"
    }
   ],
   "source": [
    "df_idf = pd.DataFrame(data=idf.transpose(), index=terms, columns=['idf'])\n",
    "df_idf"
   ]
  },
  {
   "cell_type": "markdown",
   "metadata": {},
   "source": [
    "### 2-3 TF-IDF Matrix 생성 및 계산 \n",
    "* TF-IDF 계산 (df * idf = TF * IDF)"
   ]
  },
  {
   "cell_type": "code",
   "execution_count": 10,
   "metadata": {
    "scrolled": true
   },
   "outputs": [
    {
     "data": {
      "text/html": [
       "<div>\n",
       "<style scoped>\n",
       "    .dataframe tbody tr th:only-of-type {\n",
       "        vertical-align: middle;\n",
       "    }\n",
       "\n",
       "    .dataframe tbody tr th {\n",
       "        vertical-align: top;\n",
       "    }\n",
       "\n",
       "    .dataframe thead th {\n",
       "        text-align: right;\n",
       "    }\n",
       "</style>\n",
       "<table border=\"1\" class=\"dataframe\">\n",
       "  <thead>\n",
       "    <tr style=\"text-align: right;\">\n",
       "      <th></th>\n",
       "      <th>Docs1</th>\n",
       "      <th>Docs2</th>\n",
       "      <th>Docs3</th>\n",
       "      <th>Docs4</th>\n",
       "      <th>Docs5</th>\n",
       "      <th>Docs6</th>\n",
       "    </tr>\n",
       "  </thead>\n",
       "  <tbody>\n",
       "    <tr>\n",
       "      <th>bread</th>\n",
       "      <td>0.0</td>\n",
       "      <td>0.0</td>\n",
       "      <td>0.0</td>\n",
       "      <td>0.4055</td>\n",
       "      <td>0.4055</td>\n",
       "      <td>0.4055</td>\n",
       "    </tr>\n",
       "    <tr>\n",
       "      <th>cake</th>\n",
       "      <td>0.0</td>\n",
       "      <td>0.4055</td>\n",
       "      <td>0.0</td>\n",
       "      <td>0.0</td>\n",
       "      <td>0.4055</td>\n",
       "      <td>0.4055</td>\n",
       "    </tr>\n",
       "    <tr>\n",
       "      <th>cute</th>\n",
       "      <td>0.6931</td>\n",
       "      <td>0.0</td>\n",
       "      <td>0.0</td>\n",
       "      <td>0.0</td>\n",
       "      <td>0.0</td>\n",
       "      <td>0.6931</td>\n",
       "    </tr>\n",
       "    <tr>\n",
       "      <th>eat</th>\n",
       "      <td>0.0</td>\n",
       "      <td>0.4055</td>\n",
       "      <td>0.0</td>\n",
       "      <td>0.4055</td>\n",
       "      <td>0.0</td>\n",
       "      <td>0.4055</td>\n",
       "    </tr>\n",
       "    <tr>\n",
       "      <th>hamster</th>\n",
       "      <td>0.0</td>\n",
       "      <td>0.0</td>\n",
       "      <td>0.6931</td>\n",
       "      <td>0.0</td>\n",
       "      <td>0.0</td>\n",
       "      <td>0.6931</td>\n",
       "    </tr>\n",
       "    <tr>\n",
       "      <th>kitty</th>\n",
       "      <td>0.6931</td>\n",
       "      <td>0.0</td>\n",
       "      <td>0.6931</td>\n",
       "      <td>0.0</td>\n",
       "      <td>0.0</td>\n",
       "      <td>0.0</td>\n",
       "    </tr>\n",
       "    <tr>\n",
       "      <th>rice</th>\n",
       "      <td>0.0</td>\n",
       "      <td>0.6931</td>\n",
       "      <td>0.0</td>\n",
       "      <td>0.0</td>\n",
       "      <td>0.6931</td>\n",
       "      <td>0.0</td>\n",
       "    </tr>\n",
       "  </tbody>\n",
       "</table>\n",
       "</div>"
      ],
      "text/plain": [
       "          Docs1   Docs2   Docs3   Docs4   Docs5   Docs6\n",
       "bread       0.0     0.0     0.0  0.4055  0.4055  0.4055\n",
       "cake        0.0  0.4055     0.0     0.0  0.4055  0.4055\n",
       "cute     0.6931     0.0     0.0     0.0     0.0  0.6931\n",
       "eat         0.0  0.4055     0.0  0.4055     0.0  0.4055\n",
       "hamster     0.0     0.0  0.6931     0.0     0.0  0.6931\n",
       "kitty    0.6931     0.0  0.6931     0.0     0.0     0.0\n",
       "rice        0.0  0.6931     0.0     0.0  0.6931     0.0"
      ]
     },
     "execution_count": 10,
     "metadata": {},
     "output_type": "execute_result"
    }
   ],
   "source": [
    "TF_T = TF.transpose()\n",
    "# TF-IDF matrix 생성\n",
    "tf_idf = pd.DataFrame(index = terms, columns=TF_T.columns)\n",
    "tf_idf\n",
    "\n",
    "# TF-IDF 계산 (df * idf = TF * IDF)\n",
    "for i in range(7):\n",
    "    tf_idf.iloc[i] = round(TF_T.iloc[i]*idf[i],4)\n",
    "tf_idf"
   ]
  },
  {
   "cell_type": "markdown",
   "metadata": {},
   "source": [
    "## 3. Topic Modeling\n",
    "### 3-1 LDA\n",
    "    * Topic 개수(1 ~ 30개)에 따른 perplexity 계산\n"
   ]
  },
  {
   "cell_type": "code",
   "execution_count": 11,
   "metadata": {},
   "outputs": [
    {
     "data": {
      "text/plain": [
       "[Text(0, 0.5, 'perplexity'), Text(0.5, 0, 'number of topics')]"
      ]
     },
     "execution_count": 11,
     "metadata": {},
     "output_type": "execute_result"
    },
    {
     "data": {
      "image/png": "[encoded data removed]",
      "text/plain": [
       "<Figure size 432x288 with 1 Axes>"
      ]
     },
     "metadata": {
      "needs_background": "light"
     },
     "output_type": "display_data"
    }
   ],
   "source": [
    "x,y =[], []\n",
    "for i in range(1,30):\n",
    "    lda = LatentDirichletAllocation(n_components=i, random_state=777, verbose=0, learning_method='batch', max_iter=100)\n",
    "    lda.fit(TFM)\n",
    "    \n",
    "#     print(\"\\n 토픽 수\",i,\"개 Topics in LDA model (Perplexity={}):\".format(lda.perplexity(TFM)))\n",
    "    x.append(i)\n",
    "    y.append(lda.perplexity(TFM))\n",
    "line_plot = sns.lineplot(x=x, y=y)\n",
    "line_plot.set(xlabel='number of topics', ylabel='perplexity')"
   ]
  },
  {
   "cell_type": "markdown",
   "metadata": {},
   "source": [
    "    위와같이 topic의 수가 증가하면 perplexity가 증가하는 것을 볼 수 있습니다.\n",
    "    토픽이 5개 일때, perplexity가 토픽 4개일때보다 작은 것을 확인했습니다.\n",
    "    따라서 토픽의 수를 5로 설정했습니다."
   ]
  },
  {
   "cell_type": "markdown",
   "metadata": {},
   "source": [
    "### 3-2 토픽의 수에 따른 토픽 및 분포 확인 \n",
    "#### 토픽의 수 5개"
   ]
  },
  {
   "cell_type": "code",
   "execution_count": 31,
   "metadata": {},
   "outputs": [
    {
     "name": "stdout",
     "output_type": "stream",
     "text": [
      "\n",
      "Topics in LDA model (Perplexity=24.650451730389843): \n",
      "\n",
      "Topic #0: bread, eat, cake, kitty, hamster, cute, rice\n",
      "Topic #1: hamster, kitty, bread, eat, cake, cute, rice\n",
      "Topic #2: cake, rice, eat, bread, kitty, hamster, cute\n",
      "Topic #3: cute, kitty, bread, eat, cake, hamster, rice\n",
      "Topic #4: eat, bread, cake, hamster, cute, kitty, rice\n"
     ]
    }
   ],
   "source": [
    "lda = LatentDirichletAllocation(n_components=5)\n",
    "lda.fit(TFM)\n",
    "\n",
    "print(\"\\nTopics in LDA model (Perplexity={}):\".format(lda.perplexity(TFM)),'\\n')\n",
    "feature_names = vectorizer.get_feature_names()\n",
    "for topic_idx, topic in enumerate(lda.components_):\n",
    "    message = \"Topic #%d: \" % topic_idx\n",
    "    message += \", \".join([feature_names[i] for i in topic.argsort()[:-10 -1:-1]])\n",
    "    print(message)"
   ]
  },
  {
   "cell_type": "markdown",
   "metadata": {},
   "source": [
    "위와 같이 Topic#2 와 Topic#3이 같은 토픽임을 확인했습니다."
   ]
  },
  {
   "cell_type": "code",
   "execution_count": 32,
   "metadata": {
    "scrolled": false
   },
   "outputs": [
    {
     "data": {
      "text/html": [
       "\n",
       "<link rel=\"stylesheet\" type=\"text/css\" href=\"https://cdn.jsdelivr.net/gh/bmabey/pyLDAvis@3.3.1/pyLDAvis/js/ldavis.v1.0.0.css\">\n",
       "\n",
       "\n",
       "<div id=\"ldavis_el197601608166444232455759703\"></div>\n",
       "<script type=\"text/javascript\">\n",
       "\n",
       "var ldavis_el197601608166444232455759703_data = {\"mdsDat\": {\"x\": [-0.14358998734933312, -0.024742796761141914, -0.0865427487307046, 0.12743849434968776, 0.12743703849149188], \"y\": [-0.05635120515722787, 0.010533112678650109, 0.06388341260203532, -0.009031486699276118, -0.009033833424181459], \"topics\": [1, 2, 3, 4, 5], \"cluster\": [1, 1, 1, 1, 1], \"Freq\": [31.52441068726997, 29.592833745846814, 12.988103952167073, 12.947326409922887, 12.947325204793254]}, \"tinfo\": {\"Term\": [\"kitty\", \"hamster\", \"cute\", \"bread\", \"eat\", \"rice\", \"cake\", \"rice\", \"cake\", \"eat\", \"bread\", \"kitty\", \"cute\", \"hamster\", \"cute\", \"hamster\", \"eat\", \"bread\", \"cake\", \"kitty\", \"rice\", \"bread\", \"eat\", \"kitty\", \"cute\", \"hamster\", \"rice\", \"cake\", \"kitty\", \"cute\", \"hamster\", \"rice\", \"bread\", \"eat\", \"cake\", \"kitty\", \"hamster\", \"cute\", \"rice\", \"bread\", \"eat\", \"cake\"], \"Freq\": [1.0, 2.0, 2.0, 2.0, 2.0, 2.0, 2.0, 1.5953708841284373, 1.5956036861356444, 0.8665112001197853, 0.866509789705764, 0.1450520905064385, 0.1450510828821771, 0.1450510833576492, 0.942777156759421, 0.942777330228543, 0.9437745774473446, 0.9437745122639243, 0.9431687080625841, 0.1572572138271527, 0.15725223820498904, 0.7801195863388785, 0.7801182732957316, 0.12954919695745054, 0.12954721753348153, 0.12954721854338494, 0.12954271112461158, 0.12955346807486393, 0.7766003102815059, 0.7771120349638667, 0.12946029683968832, 0.12945300517209038, 0.12947837873101212, 0.12947837864175343, 0.12946308505697388, 0.776590591536781, 0.7771171641050497, 0.12946113322974775, 0.1294538920977579, 0.12947926592265716, 0.12947926583339756, 0.12946397208946214], \"Total\": [1.0, 2.0, 2.0, 2.0, 2.0, 2.0, 2.0, 2.141072730727886, 2.9272529194195283, 2.849361695338012, 2.8493615329622357, 1.9850494031093286, 2.123948625368694, 2.123953093074315, 2.123948625368694, 2.123953093074315, 2.849361695338012, 2.8493615329622357, 2.9272529194195283, 1.9850494031093286, 2.141072730727886, 2.8493615329622357, 2.849361695338012, 1.9850494031093286, 2.123948625368694, 2.123953093074315, 2.141072730727886, 2.9272529194195283, 1.9850494031093286, 2.123948625368694, 2.123953093074315, 2.141072730727886, 2.8493615329622357, 2.849361695338012, 2.9272529194195283, 1.9850494031093286, 2.123953093074315, 2.123948625368694, 2.141072730727886, 2.8493615329622357, 2.849361695338012, 2.9272529194195283], \"Category\": [\"Default\", \"Default\", \"Default\", \"Default\", \"Default\", \"Default\", \"Default\", \"Topic1\", \"Topic1\", \"Topic1\", \"Topic1\", \"Topic1\", \"Topic1\", \"Topic1\", \"Topic2\", \"Topic2\", \"Topic2\", \"Topic2\", \"Topic2\", \"Topic2\", \"Topic2\", \"Topic3\", \"Topic3\", \"Topic3\", \"Topic3\", \"Topic3\", \"Topic3\", \"Topic3\", \"Topic4\", \"Topic4\", \"Topic4\", \"Topic4\", \"Topic4\", \"Topic4\", \"Topic4\", \"Topic5\", \"Topic5\", \"Topic5\", \"Topic5\", \"Topic5\", \"Topic5\", \"Topic5\"], \"logprob\": [7.0, 6.0, 5.0, 4.0, 3.0, 2.0, 1.0, -1.2117, -1.2116, -1.8221, -1.8221, -3.6095, -3.6095, -3.6095, -1.6745, -1.6745, -1.6734, -1.6734, -1.6741, -3.4654, -3.4655, -1.0404, -1.0404, -2.8358, -2.8358, -2.8358, -2.8358, -2.8357, -1.0418, -1.0411, -2.8333, -2.8334, -2.8332, -2.8332, -2.8333, -1.0418, -1.0411, -2.8333, -2.8334, -2.8332, -2.8332, -2.8333], \"loglift\": [7.0, 6.0, 5.0, 4.0, 3.0, 2.0, 1.0, 0.8602, 0.5476, -0.036, -0.036, -1.4619, -1.5295, -1.5295, 0.4054, 0.4054, 0.1127, 0.1127, 0.0851, -1.3179, -1.3936, 0.7457, 0.7457, -0.6882, -0.7559, -0.7559, -0.7639, -1.0766, 1.1058, 1.0388, -0.7534, -0.7615, -1.0471, -1.0471, -1.0741, 1.1058, 1.0388, -0.7534, -0.7615, -1.047, -1.047, -1.0741]}, \"token.table\": {\"Topic\": [1, 2, 3, 1, 2, 2, 4, 1, 2, 3, 2, 5, 4, 5, 1], \"Freq\": [0.350955815340283, 0.350955815340283, 0.350955815340283, 0.6832344368783133, 0.34161721843915666, 0.47082118091552755, 0.47082118091552755, 0.3509557953404623, 0.3509557953404623, 0.3509557953404623, 0.47082019054975943, 0.47082019054975943, 0.5037657996993055, 0.5037657996993055, 0.9341111916922474], \"Term\": [\"bread\", \"bread\", \"bread\", \"cake\", \"cake\", \"cute\", \"cute\", \"eat\", \"eat\", \"eat\", \"hamster\", \"hamster\", \"kitty\", \"kitty\", \"rice\"]}, \"R\": 7, \"lambda.step\": 0.01, \"plot.opts\": {\"xlab\": \"PC1\", \"ylab\": \"PC2\"}, \"topic.order\": [3, 5, 1, 4, 2]};\n",
       "\n",
       "function LDAvis_load_lib(url, callback){\n",
       "  var s = document.createElement('script');\n",
       "  s.src = url;\n",
       "  s.async = true;\n",
       "  s.onreadystatechange = s.onload = callback;\n",
       "  s.onerror = function(){console.warn(\"failed to load library \" + url);};\n",
       "  document.getElementsByTagName(\"head\")[0].appendChild(s);\n",
       "}\n",
       "\n",
       "if(typeof(LDAvis) !== \"undefined\"){\n",
       "   // already loaded: just create the visualization\n",
       "   !function(LDAvis){\n",
       "       new LDAvis(\"#\" + \"ldavis_el197601608166444232455759703\", ldavis_el197601608166444232455759703_data);\n",
       "   }(LDAvis);\n",
       "}else if(typeof define === \"function\" && define.amd){\n",
       "   // require.js is available: use it to load d3/LDAvis\n",
       "   require.config({paths: {d3: \"https://d3js.org/d3.v5\"}});\n",
       "   require([\"d3\"], function(d3){\n",
       "      window.d3 = d3;\n",
       "      LDAvis_load_lib(\"https://cdn.jsdelivr.net/gh/bmabey/pyLDAvis@3.3.1/pyLDAvis/js/ldavis.v3.0.0.js\", function(){\n",
       "        new LDAvis(\"#\" + \"ldavis_el197601608166444232455759703\", ldavis_el197601608166444232455759703_data);\n",
       "      });\n",
       "    });\n",
       "}else{\n",
       "    // require.js not available: dynamically load d3 & LDAvis\n",
       "    LDAvis_load_lib(\"https://d3js.org/d3.v5.js\", function(){\n",
       "         LDAvis_load_lib(\"https://cdn.jsdelivr.net/gh/bmabey/pyLDAvis@3.3.1/pyLDAvis/js/ldavis.v3.0.0.js\", function(){\n",
       "                 new LDAvis(\"#\" + \"ldavis_el197601608166444232455759703\", ldavis_el197601608166444232455759703_data);\n",
       "            })\n",
       "         });\n",
       "}\n",
       "</script>"
      ],
      "text/plain": [
       "PreparedData(topic_coordinates=              x         y  topics  cluster       Freq\n",
       "topic                                                \n",
       "2     -0.143590 -0.056351       1        1  31.524411\n",
       "4     -0.024743  0.010533       2        1  29.592834\n",
       "0     -0.086543  0.063883       3        1  12.988104\n",
       "3      0.127438 -0.009031       4        1  12.947326\n",
       "1      0.127437 -0.009034       5        1  12.947325, topic_info=      Term      Freq     Total Category  logprob  loglift\n",
       "5    kitty  1.000000  1.000000  Default   7.0000   7.0000\n",
       "4  hamster  2.000000  2.000000  Default   6.0000   6.0000\n",
       "2     cute  2.000000  2.000000  Default   5.0000   5.0000\n",
       "0    bread  2.000000  2.000000  Default   4.0000   4.0000\n",
       "3      eat  2.000000  2.000000  Default   3.0000   3.0000\n",
       "6     rice  2.000000  2.000000  Default   2.0000   2.0000\n",
       "1     cake  2.000000  2.000000  Default   1.0000   1.0000\n",
       "6     rice  1.595371  2.141073   Topic1  -1.2117   0.8602\n",
       "1     cake  1.595604  2.927253   Topic1  -1.2116   0.5476\n",
       "3      eat  0.866511  2.849362   Topic1  -1.8221  -0.0360\n",
       "0    bread  0.866510  2.849362   Topic1  -1.8221  -0.0360\n",
       "5    kitty  0.145052  1.985049   Topic1  -3.6095  -1.4619\n",
       "2     cute  0.145051  2.123949   Topic1  -3.6095  -1.5295\n",
       "4  hamster  0.145051  2.123953   Topic1  -3.6095  -1.5295\n",
       "2     cute  0.942777  2.123949   Topic2  -1.6745   0.4054\n",
       "4  hamster  0.942777  2.123953   Topic2  -1.6745   0.4054\n",
       "3      eat  0.943775  2.849362   Topic2  -1.6734   0.1127\n",
       "0    bread  0.943775  2.849362   Topic2  -1.6734   0.1127\n",
       "1     cake  0.943169  2.927253   Topic2  -1.6741   0.0851\n",
       "5    kitty  0.157257  1.985049   Topic2  -3.4654  -1.3179\n",
       "6     rice  0.157252  2.141073   Topic2  -3.4655  -1.3936\n",
       "0    bread  0.780120  2.849362   Topic3  -1.0404   0.7457\n",
       "3      eat  0.780118  2.849362   Topic3  -1.0404   0.7457\n",
       "5    kitty  0.129549  1.985049   Topic3  -2.8358  -0.6882\n",
       "2     cute  0.129547  2.123949   Topic3  -2.8358  -0.7559\n",
       "4  hamster  0.129547  2.123953   Topic3  -2.8358  -0.7559\n",
       "6     rice  0.129543  2.141073   Topic3  -2.8358  -0.7639\n",
       "1     cake  0.129553  2.927253   Topic3  -2.8357  -1.0766\n",
       "5    kitty  0.776600  1.985049   Topic4  -1.0418   1.1058\n",
       "2     cute  0.777112  2.123949   Topic4  -1.0411   1.0388\n",
       "4  hamster  0.129460  2.123953   Topic4  -2.8333  -0.7534\n",
       "6     rice  0.129453  2.141073   Topic4  -2.8334  -0.7615\n",
       "0    bread  0.129478  2.849362   Topic4  -2.8332  -1.0471\n",
       "3      eat  0.129478  2.849362   Topic4  -2.8332  -1.0471\n",
       "1     cake  0.129463  2.927253   Topic4  -2.8333  -1.0741\n",
       "5    kitty  0.776591  1.985049   Topic5  -1.0418   1.1058\n",
       "4  hamster  0.777117  2.123953   Topic5  -1.0411   1.0388\n",
       "2     cute  0.129461  2.123949   Topic5  -2.8333  -0.7534\n",
       "6     rice  0.129454  2.141073   Topic5  -2.8334  -0.7615\n",
       "0    bread  0.129479  2.849362   Topic5  -2.8332  -1.0470\n",
       "3      eat  0.129479  2.849362   Topic5  -2.8332  -1.0470\n",
       "1     cake  0.129464  2.927253   Topic5  -2.8333  -1.0741, token_table=      Topic      Freq     Term\n",
       "term                          \n",
       "0         1  0.350956    bread\n",
       "0         2  0.350956    bread\n",
       "0         3  0.350956    bread\n",
       "1         1  0.683234     cake\n",
       "1         2  0.341617     cake\n",
       "2         2  0.470821     cute\n",
       "2         4  0.470821     cute\n",
       "3         1  0.350956      eat\n",
       "3         2  0.350956      eat\n",
       "3         3  0.350956      eat\n",
       "4         2  0.470820  hamster\n",
       "4         5  0.470820  hamster\n",
       "5         4  0.503766    kitty\n",
       "5         5  0.503766    kitty\n",
       "6         1  0.934111     rice, R=7, lambda_step=0.01, plot_opts={'xlab': 'PC1', 'ylab': 'PC2'}, topic_order=[3, 5, 1, 4, 2])"
      ]
     },
     "execution_count": 32,
     "metadata": {},
     "output_type": "execute_result"
    }
   ],
   "source": [
    "import pyLDAvis\n",
    "import pyLDAvis.sklearn\n",
    "\n",
    "pyLDAvis.enable_notebook()\n",
    "pyLDAvis.sklearn.prepare(lda, TFM, vectorizer)"
   ]
  },
  {
   "cell_type": "markdown",
   "metadata": {},
   "source": [
    "이를 시각화해 본 결과, 위와 같이 4, 5의 토픽이 겹쳐있는것을 확인했고,   \n",
    "토픽1을 제외하고 토픽2, 3, 4, 5는 해당 토픽 내의 예상 용어 빈도가 표시되지 않음을 확인했습니다.  \n",
    "따라서 토픽의 수를 줄여야 겠다고 생각했습니다.  "
   ]
  },
  {
   "cell_type": "markdown",
   "metadata": {},
   "source": [
    "### 토픽 수 4개"
   ]
  },
  {
   "cell_type": "code",
   "execution_count": 14,
   "metadata": {},
   "outputs": [
    {
     "name": "stderr",
     "output_type": "stream",
     "text": [
      "C:\\ProgramData\\Anaconda3\\lib\\site-packages\\ipykernel\\ipkernel.py:287: DeprecationWarning: `should_run_async` will not call `transform_cell` automatically in the future. Please pass the result to `transformed_cell` argument and any exception that happen during thetransform in `preprocessing_exc_tuple` in IPython 7.17 and above.\n",
      "  and should_run_async(code)\n"
     ]
    }
   ],
   "source": [
    "import warnings\n",
    "warnings.filterwarnings(\"ignore\", category=DeprecationWarning)"
   ]
  },
  {
   "cell_type": "code",
   "execution_count": 36,
   "metadata": {},
   "outputs": [
    {
     "name": "stdout",
     "output_type": "stream",
     "text": [
      "\n",
      "Topics in LDA model (Perplexity=21.296770215657524): \n",
      "\n",
      "Topic #0: bread, cake, rice, hamster, eat, cute, kitty\n",
      "Topic #1: eat, cake, rice, hamster, bread, cute, kitty\n",
      "Topic #2: bread, eat, hamster, cute, cake, kitty, rice\n",
      "Topic #3: kitty, cute, hamster, cake, eat, bread, rice\n"
     ]
    },
    {
     "data": {
      "text/html": [
       "\n",
       "<link rel=\"stylesheet\" type=\"text/css\" href=\"https://cdn.jsdelivr.net/gh/bmabey/pyLDAvis@3.3.1/pyLDAvis/js/ldavis.v1.0.0.css\">\n",
       "\n",
       "\n",
       "<div id=\"ldavis_el1976016078045776083479669518\"></div>\n",
       "<script type=\"text/javascript\">\n",
       "\n",
       "var ldavis_el1976016078045776083479669518_data = {\"mdsDat\": {\"x\": [-0.03146170230191854, -0.07129628169559243, -0.07129509219478622, 0.1740530761922972], \"y\": [0.09035654198969711, -0.03784417240206318, -0.037842390978126084, -0.014669978609507906], \"topics\": [1, 2, 3, 4], \"cluster\": [1, 1, 1, 1], \"Freq\": [42.40638853920892, 19.66689934469067, 19.666893218000535, 18.259818898099876]}, \"tinfo\": {\"Term\": [\"kitty\", \"rice\", \"cake\", \"cute\", \"eat\", \"bread\", \"hamster\", \"hamster\", \"bread\", \"eat\", \"cute\", \"cake\", \"kitty\", \"rice\", \"rice\", \"cake\", \"bread\", \"kitty\", \"cute\", \"hamster\", \"eat\", \"rice\", \"cake\", \"eat\", \"kitty\", \"cute\", \"hamster\", \"bread\", \"kitty\", \"cute\", \"hamster\", \"rice\", \"cake\", \"bread\", \"eat\"], \"Freq\": [1.0, 2.0, 2.0, 2.0, 2.0, 2.0, 2.0, 1.650875983423941, 1.6676640022729299, 1.6676634708676372, 0.9266865013082046, 0.9214260322666168, 0.1887909693842063, 0.1859790921419793, 0.8773223854163855, 0.8811234784507816, 0.8820907363426658, 0.17563630257628454, 0.17569511343021302, 0.17576739671056535, 0.17573747567051867, 0.8773135426127717, 0.8811163119165086, 0.8820992702987018, 0.1756379292125744, 0.17569678276242642, 0.1757690431042004, 0.17573896715290765, 1.4586361272581516, 0.8139837902057322, 0.18127866133673834, 0.16250886736598558, 0.16259814951968357, 0.16258180707938844, 0.1625818099113002], \"Total\": [1.0, 2.0, 2.0, 2.0, 2.0, 2.0, 2.0, 2.1836910845754454, 2.8880755128478914, 2.8880820267481577, 2.0920621877065764, 2.846263972153591, 1.998701328431217, 2.103123887537122, 2.103123887537122, 2.846263972153591, 2.8880755128478914, 1.998701328431217, 2.0920621877065764, 2.1836910845754454, 2.8880820267481577, 2.103123887537122, 2.846263972153591, 2.8880820267481577, 1.998701328431217, 2.0920621877065764, 2.1836910845754454, 2.8880755128478914, 1.998701328431217, 2.0920621877065764, 2.1836910845754454, 2.103123887537122, 2.846263972153591, 2.8880755128478914, 2.8880820267481577], \"Category\": [\"Default\", \"Default\", \"Default\", \"Default\", \"Default\", \"Default\", \"Default\", \"Topic1\", \"Topic1\", \"Topic1\", \"Topic1\", \"Topic1\", \"Topic1\", \"Topic1\", \"Topic2\", \"Topic2\", \"Topic2\", \"Topic2\", \"Topic2\", \"Topic2\", \"Topic2\", \"Topic3\", \"Topic3\", \"Topic3\", \"Topic3\", \"Topic3\", \"Topic3\", \"Topic3\", \"Topic4\", \"Topic4\", \"Topic4\", \"Topic4\", \"Topic4\", \"Topic4\", \"Topic4\"], \"logprob\": [7.0, 6.0, 5.0, 4.0, 3.0, 2.0, 1.0, -1.474, -1.4639, -1.4639, -2.0515, -2.0572, -3.6425, -3.6575, -1.3379, -1.3335, -1.3324, -2.9463, -2.946, -2.9456, -2.9457, -1.3379, -1.3335, -1.3324, -2.9463, -2.946, -2.9456, -2.9457, -0.7552, -1.3386, -2.8405, -2.9498, -2.9492, -2.9493, -2.9493], \"loglift\": [7.0, 6.0, 5.0, 4.0, 3.0, 2.0, 1.0, 0.5782, 0.3087, 0.3087, 0.0436, -0.27, -1.5017, -1.5677, 0.7519, 0.4537, 0.4402, -0.8056, -0.8509, -0.8934, -1.1731, 0.7519, 0.4537, 0.4402, -0.8056, -0.8509, -0.8934, -1.1731, 1.3855, 0.7565, -0.7883, -0.86, -1.162, -1.1767, -1.1767]}, \"token.table\": {\"Topic\": [1, 2, 1, 2, 3, 1, 4, 1, 3, 1, 4, 2, 3], \"Freq\": [0.6925026686812035, 0.34625133434060174, 0.35133775706803544, 0.35133775706803544, 0.35133775706803544, 0.47799726311972124, 0.47799726311972124, 0.6925011067818958, 0.3462505533909479, 0.9158804622719066, 0.5003248788476571, 0.4754831638430283, 0.4754831638430283], \"Term\": [\"bread\", \"bread\", \"cake\", \"cake\", \"cake\", \"cute\", \"cute\", \"eat\", \"eat\", \"hamster\", \"kitty\", \"rice\", \"rice\"]}, \"R\": 7, \"lambda.step\": 0.01, \"plot.opts\": {\"xlab\": \"PC1\", \"ylab\": \"PC2\"}, \"topic.order\": [3, 1, 2, 4]};\n",
       "\n",
       "function LDAvis_load_lib(url, callback){\n",
       "  var s = document.createElement('script');\n",
       "  s.src = url;\n",
       "  s.async = true;\n",
       "  s.onreadystatechange = s.onload = callback;\n",
       "  s.onerror = function(){console.warn(\"failed to load library \" + url);};\n",
       "  document.getElementsByTagName(\"head\")[0].appendChild(s);\n",
       "}\n",
       "\n",
       "if(typeof(LDAvis) !== \"undefined\"){\n",
       "   // already loaded: just create the visualization\n",
       "   !function(LDAvis){\n",
       "       new LDAvis(\"#\" + \"ldavis_el1976016078045776083479669518\", ldavis_el1976016078045776083479669518_data);\n",
       "   }(LDAvis);\n",
       "}else if(typeof define === \"function\" && define.amd){\n",
       "   // require.js is available: use it to load d3/LDAvis\n",
       "   require.config({paths: {d3: \"https://d3js.org/d3.v5\"}});\n",
       "   require([\"d3\"], function(d3){\n",
       "      window.d3 = d3;\n",
       "      LDAvis_load_lib(\"https://cdn.jsdelivr.net/gh/bmabey/pyLDAvis@3.3.1/pyLDAvis/js/ldavis.v3.0.0.js\", function(){\n",
       "        new LDAvis(\"#\" + \"ldavis_el1976016078045776083479669518\", ldavis_el1976016078045776083479669518_data);\n",
       "      });\n",
       "    });\n",
       "}else{\n",
       "    // require.js not available: dynamically load d3 & LDAvis\n",
       "    LDAvis_load_lib(\"https://d3js.org/d3.v5.js\", function(){\n",
       "         LDAvis_load_lib(\"https://cdn.jsdelivr.net/gh/bmabey/pyLDAvis@3.3.1/pyLDAvis/js/ldavis.v3.0.0.js\", function(){\n",
       "                 new LDAvis(\"#\" + \"ldavis_el1976016078045776083479669518\", ldavis_el1976016078045776083479669518_data);\n",
       "            })\n",
       "         });\n",
       "}\n",
       "</script>"
      ],
      "text/plain": [
       "PreparedData(topic_coordinates=              x         y  topics  cluster       Freq\n",
       "topic                                                \n",
       "2     -0.031462  0.090357       1        1  42.406389\n",
       "0     -0.071296 -0.037844       2        1  19.666899\n",
       "1     -0.071295 -0.037842       3        1  19.666893\n",
       "3      0.174053 -0.014670       4        1  18.259819, topic_info=      Term      Freq     Total Category  logprob  loglift\n",
       "5    kitty  1.000000  1.000000  Default   7.0000   7.0000\n",
       "6     rice  2.000000  2.000000  Default   6.0000   6.0000\n",
       "1     cake  2.000000  2.000000  Default   5.0000   5.0000\n",
       "2     cute  2.000000  2.000000  Default   4.0000   4.0000\n",
       "3      eat  2.000000  2.000000  Default   3.0000   3.0000\n",
       "0    bread  2.000000  2.000000  Default   2.0000   2.0000\n",
       "4  hamster  2.000000  2.000000  Default   1.0000   1.0000\n",
       "4  hamster  1.650876  2.183691   Topic1  -1.4740   0.5782\n",
       "0    bread  1.667664  2.888076   Topic1  -1.4639   0.3087\n",
       "3      eat  1.667663  2.888082   Topic1  -1.4639   0.3087\n",
       "2     cute  0.926687  2.092062   Topic1  -2.0515   0.0436\n",
       "1     cake  0.921426  2.846264   Topic1  -2.0572  -0.2700\n",
       "5    kitty  0.188791  1.998701   Topic1  -3.6425  -1.5017\n",
       "6     rice  0.185979  2.103124   Topic1  -3.6575  -1.5677\n",
       "6     rice  0.877322  2.103124   Topic2  -1.3379   0.7519\n",
       "1     cake  0.881123  2.846264   Topic2  -1.3335   0.4537\n",
       "0    bread  0.882091  2.888076   Topic2  -1.3324   0.4402\n",
       "5    kitty  0.175636  1.998701   Topic2  -2.9463  -0.8056\n",
       "2     cute  0.175695  2.092062   Topic2  -2.9460  -0.8509\n",
       "4  hamster  0.175767  2.183691   Topic2  -2.9456  -0.8934\n",
       "3      eat  0.175737  2.888082   Topic2  -2.9457  -1.1731\n",
       "6     rice  0.877314  2.103124   Topic3  -1.3379   0.7519\n",
       "1     cake  0.881116  2.846264   Topic3  -1.3335   0.4537\n",
       "3      eat  0.882099  2.888082   Topic3  -1.3324   0.4402\n",
       "5    kitty  0.175638  1.998701   Topic3  -2.9463  -0.8056\n",
       "2     cute  0.175697  2.092062   Topic3  -2.9460  -0.8509\n",
       "4  hamster  0.175769  2.183691   Topic3  -2.9456  -0.8934\n",
       "0    bread  0.175739  2.888076   Topic3  -2.9457  -1.1731\n",
       "5    kitty  1.458636  1.998701   Topic4  -0.7552   1.3855\n",
       "2     cute  0.813984  2.092062   Topic4  -1.3386   0.7565\n",
       "4  hamster  0.181279  2.183691   Topic4  -2.8405  -0.7883\n",
       "6     rice  0.162509  2.103124   Topic4  -2.9498  -0.8600\n",
       "1     cake  0.162598  2.846264   Topic4  -2.9492  -1.1620\n",
       "0    bread  0.162582  2.888076   Topic4  -2.9493  -1.1767\n",
       "3      eat  0.162582  2.888082   Topic4  -2.9493  -1.1767, token_table=      Topic      Freq     Term\n",
       "term                          \n",
       "0         1  0.692503    bread\n",
       "0         2  0.346251    bread\n",
       "1         1  0.351338     cake\n",
       "1         2  0.351338     cake\n",
       "1         3  0.351338     cake\n",
       "2         1  0.477997     cute\n",
       "2         4  0.477997     cute\n",
       "3         1  0.692501      eat\n",
       "3         3  0.346251      eat\n",
       "4         1  0.915880  hamster\n",
       "5         4  0.500325    kitty\n",
       "6         2  0.475483     rice\n",
       "6         3  0.475483     rice, R=7, lambda_step=0.01, plot_opts={'xlab': 'PC1', 'ylab': 'PC2'}, topic_order=[3, 1, 2, 4])"
      ]
     },
     "execution_count": 36,
     "metadata": {},
     "output_type": "execute_result"
    }
   ],
   "source": [
    "lda = LatentDirichletAllocation(n_components=4)\n",
    "lda.fit(TFM)\n",
    "\n",
    "print(\"\\nTopics in LDA model (Perplexity={}):\".format(lda.perplexity(TFM)),'\\n')\n",
    "feature_names = vectorizer.get_feature_names()\n",
    "for topic_idx, topic in enumerate(lda.components_):\n",
    "    message = \"Topic #%d: \" % topic_idx\n",
    "    message += \", \".join([feature_names[i] for i in topic.argsort()[:-10 -1:-1]])\n",
    "    print(message)\n",
    "\n",
    "pyLDAvis.enable_notebook()\n",
    "pyLDAvis.sklearn.prepare(lda, TFM, vectorizer)"
   ]
  },
  {
   "cell_type": "markdown",
   "metadata": {},
   "source": [
    "토픽의 수 4개인 경우에도 토픽2개가 겹치는 것을 발견했습니다.  \n",
    "겹치는 토픽 2개의 경우에 토픽의 수 5개의 경우처럼 예상 용어 빈도가 표시되지 않음을 확인했습니다.  \n",
    "따라서 토픽의 수를 1개 더 줄여 아래와같이 토픽 수 3개로 설정했습니다."
   ]
  },
  {
   "cell_type": "markdown",
   "metadata": {},
   "source": [
    "### 토픽 수 3개"
   ]
  },
  {
   "cell_type": "code",
   "execution_count": 47,
   "metadata": {},
   "outputs": [
    {
     "name": "stdout",
     "output_type": "stream",
     "text": [
      "\n",
      "Topics in LDA model (Perplexity=16.376124721954223): \n",
      "\n",
      "Topic #0: kitty, cute, hamster, rice, eat, bread, cake\n",
      "Topic #1: rice, cake, bread, eat, cute, hamster, kitty\n",
      "Topic #2: rice, kitty, cake, bread, eat, hamster, cute\n"
     ]
    },
    {
     "data": {
      "text/html": [
       "\n",
       "<link rel=\"stylesheet\" type=\"text/css\" href=\"https://cdn.jsdelivr.net/gh/bmabey/pyLDAvis@3.3.1/pyLDAvis/js/ldavis.v1.0.0.css\">\n",
       "\n",
       "\n",
       "<div id=\"ldavis_el197601608168546632368426249\"></div>\n",
       "<script type=\"text/javascript\">\n",
       "\n",
       "var ldavis_el197601608168546632368426249_data = {\"mdsDat\": {\"x\": [-0.11740192618289685, -0.01627860762543842, 0.13368053380833525], \"y\": [-0.025414213690406695, 0.04255201270906331, -0.01713779901865661], \"topics\": [1, 2, 3], \"cluster\": [1, 1, 1], \"Freq\": [42.94066999565979, 36.50214030133984, 20.557189703000365]}, \"tinfo\": {\"Term\": [\"kitty\", \"hamster\", \"cute\", \"rice\", \"cake\", \"bread\", \"eat\", \"rice\", \"cake\", \"bread\", \"eat\", \"kitty\", \"hamster\", \"cute\", \"cute\", \"hamster\", \"eat\", \"bread\", \"cake\", \"kitty\", \"rice\", \"kitty\", \"hamster\", \"cute\", \"rice\", \"bread\", \"eat\", \"cake\"], \"Freq\": [1.0, 2.0, 2.0, 2.0, 2.0, 2.0, 2.0, 1.6442579189152455, 1.6540696561760204, 1.6467582694337084, 1.6467501356675645, 0.23575938213275616, 0.23617102053463718, 0.23614751640223214, 1.6973995286580854, 1.0018859971460818, 0.9998185060856565, 0.9998098546721984, 0.9923341193103394, 0.2625952261120048, 0.2515206192434065, 1.4991762701517302, 0.8625333318726842, 0.2639661178337686, 0.21669783128837883, 0.2175404828602263, 0.21754049815187276, 0.2172677173514007], \"Total\": [1.0, 2.0, 2.0, 2.0, 2.0, 2.0, 2.0, 2.1124763694470308, 2.8636714928377605, 2.864108606966133, 2.8641091399050937, 1.9975308783964911, 2.1005903495534035, 2.197513162894086, 2.197513162894086, 2.1005903495534035, 2.8641091399050937, 2.864108606966133, 2.8636714928377605, 1.9975308783964911, 2.1124763694470308, 1.9975308783964911, 2.1005903495534035, 2.197513162894086, 2.1124763694470308, 2.864108606966133, 2.8641091399050937, 2.8636714928377605], \"Category\": [\"Default\", \"Default\", \"Default\", \"Default\", \"Default\", \"Default\", \"Default\", \"Topic1\", \"Topic1\", \"Topic1\", \"Topic1\", \"Topic1\", \"Topic1\", \"Topic1\", \"Topic2\", \"Topic2\", \"Topic2\", \"Topic2\", \"Topic2\", \"Topic2\", \"Topic2\", \"Topic3\", \"Topic3\", \"Topic3\", \"Topic3\", \"Topic3\", \"Topic3\", \"Topic3\"], \"logprob\": [7.0, 6.0, 5.0, 4.0, 3.0, 2.0, 1.0, -1.4906, -1.4846, -1.4891, -1.4891, -3.4328, -3.4311, -3.4312, -1.2963, -1.8235, -1.8256, -1.8256, -1.8331, -3.1626, -3.2056, -0.8463, -1.3991, -2.5832, -2.7805, -2.7766, -2.7766, -2.7779], \"loglift\": [7.0, 6.0, 5.0, 4.0, 3.0, 2.0, 1.0, 0.5948, 0.2965, 0.2919, 0.2919, -1.2915, -1.3401, -1.3853, 0.7496, 0.2675, -0.0446, -0.0446, -0.052, -1.0213, -1.1203, 1.295, 0.6919, -0.5373, -0.6952, -0.9957, -0.9957, -0.9968]}, \"token.table\": {\"Topic\": [1, 2, 1, 2, 2, 1, 2, 2, 3, 3, 1], \"Freq\": [0.6982975419073029, 0.34914877095365143, 0.6984041308516489, 0.34920206542582444, 0.910119690644326, 0.6982974119716236, 0.3491487059858118, 0.47605664770030254, 0.47605664770030254, 0.5006180434130487, 0.9467561526018523], \"Term\": [\"bread\", \"bread\", \"cake\", \"cake\", \"cute\", \"eat\", \"eat\", \"hamster\", \"hamster\", \"kitty\", \"rice\"]}, \"R\": 7, \"lambda.step\": 0.01, \"plot.opts\": {\"xlab\": \"PC1\", \"ylab\": \"PC2\"}, \"topic.order\": [1, 3, 2]};\n",
       "\n",
       "function LDAvis_load_lib(url, callback){\n",
       "  var s = document.createElement('script');\n",
       "  s.src = url;\n",
       "  s.async = true;\n",
       "  s.onreadystatechange = s.onload = callback;\n",
       "  s.onerror = function(){console.warn(\"failed to load library \" + url);};\n",
       "  document.getElementsByTagName(\"head\")[0].appendChild(s);\n",
       "}\n",
       "\n",
       "if(typeof(LDAvis) !== \"undefined\"){\n",
       "   // already loaded: just create the visualization\n",
       "   !function(LDAvis){\n",
       "       new LDAvis(\"#\" + \"ldavis_el197601608168546632368426249\", ldavis_el197601608168546632368426249_data);\n",
       "   }(LDAvis);\n",
       "}else if(typeof define === \"function\" && define.amd){\n",
       "   // require.js is available: use it to load d3/LDAvis\n",
       "   require.config({paths: {d3: \"https://d3js.org/d3.v5\"}});\n",
       "   require([\"d3\"], function(d3){\n",
       "      window.d3 = d3;\n",
       "      LDAvis_load_lib(\"https://cdn.jsdelivr.net/gh/bmabey/pyLDAvis@3.3.1/pyLDAvis/js/ldavis.v3.0.0.js\", function(){\n",
       "        new LDAvis(\"#\" + \"ldavis_el197601608168546632368426249\", ldavis_el197601608168546632368426249_data);\n",
       "      });\n",
       "    });\n",
       "}else{\n",
       "    // require.js not available: dynamically load d3 & LDAvis\n",
       "    LDAvis_load_lib(\"https://d3js.org/d3.v5.js\", function(){\n",
       "         LDAvis_load_lib(\"https://cdn.jsdelivr.net/gh/bmabey/pyLDAvis@3.3.1/pyLDAvis/js/ldavis.v3.0.0.js\", function(){\n",
       "                 new LDAvis(\"#\" + \"ldavis_el197601608168546632368426249\", ldavis_el197601608168546632368426249_data);\n",
       "            })\n",
       "         });\n",
       "}\n",
       "</script>"
      ],
      "text/plain": [
       "PreparedData(topic_coordinates=              x         y  topics  cluster      Freq\n",
       "topic                                               \n",
       "0     -0.117402 -0.025414       1        1  42.94067\n",
       "2     -0.016279  0.042552       2        1  36.50214\n",
       "1      0.133681 -0.017138       3        1  20.55719, topic_info=      Term      Freq     Total Category  logprob  loglift\n",
       "5    kitty  1.000000  1.000000  Default   7.0000   7.0000\n",
       "4  hamster  2.000000  2.000000  Default   6.0000   6.0000\n",
       "2     cute  2.000000  2.000000  Default   5.0000   5.0000\n",
       "6     rice  2.000000  2.000000  Default   4.0000   4.0000\n",
       "1     cake  2.000000  2.000000  Default   3.0000   3.0000\n",
       "0    bread  2.000000  2.000000  Default   2.0000   2.0000\n",
       "3      eat  2.000000  2.000000  Default   1.0000   1.0000\n",
       "6     rice  1.644258  2.112476   Topic1  -1.4906   0.5948\n",
       "1     cake  1.654070  2.863671   Topic1  -1.4846   0.2965\n",
       "0    bread  1.646758  2.864109   Topic1  -1.4891   0.2919\n",
       "3      eat  1.646750  2.864109   Topic1  -1.4891   0.2919\n",
       "5    kitty  0.235759  1.997531   Topic1  -3.4328  -1.2915\n",
       "4  hamster  0.236171  2.100590   Topic1  -3.4311  -1.3401\n",
       "2     cute  0.236148  2.197513   Topic1  -3.4312  -1.3853\n",
       "2     cute  1.697400  2.197513   Topic2  -1.2963   0.7496\n",
       "4  hamster  1.001886  2.100590   Topic2  -1.8235   0.2675\n",
       "3      eat  0.999819  2.864109   Topic2  -1.8256  -0.0446\n",
       "0    bread  0.999810  2.864109   Topic2  -1.8256  -0.0446\n",
       "1     cake  0.992334  2.863671   Topic2  -1.8331  -0.0520\n",
       "5    kitty  0.262595  1.997531   Topic2  -3.1626  -1.0213\n",
       "6     rice  0.251521  2.112476   Topic2  -3.2056  -1.1203\n",
       "5    kitty  1.499176  1.997531   Topic3  -0.8463   1.2950\n",
       "4  hamster  0.862533  2.100590   Topic3  -1.3991   0.6919\n",
       "2     cute  0.263966  2.197513   Topic3  -2.5832  -0.5373\n",
       "6     rice  0.216698  2.112476   Topic3  -2.7805  -0.6952\n",
       "0    bread  0.217540  2.864109   Topic3  -2.7766  -0.9957\n",
       "3      eat  0.217540  2.864109   Topic3  -2.7766  -0.9957\n",
       "1     cake  0.217268  2.863671   Topic3  -2.7779  -0.9968, token_table=      Topic      Freq     Term\n",
       "term                          \n",
       "0         1  0.698298    bread\n",
       "0         2  0.349149    bread\n",
       "1         1  0.698404     cake\n",
       "1         2  0.349202     cake\n",
       "2         2  0.910120     cute\n",
       "3         1  0.698297      eat\n",
       "3         2  0.349149      eat\n",
       "4         2  0.476057  hamster\n",
       "4         3  0.476057  hamster\n",
       "5         3  0.500618    kitty\n",
       "6         1  0.946756     rice, R=7, lambda_step=0.01, plot_opts={'xlab': 'PC1', 'ylab': 'PC2'}, topic_order=[1, 3, 2])"
      ]
     },
     "execution_count": 47,
     "metadata": {},
     "output_type": "execute_result"
    }
   ],
   "source": [
    "lda = LatentDirichletAllocation(n_components=3)\n",
    "lda.fit(TFM)\n",
    "\n",
    "print(\"\\nTopics in LDA model (Perplexity={}):\".format(lda.perplexity(TFM)),'\\n')\n",
    "\n",
    "feature_names = vectorizer.get_feature_names()\n",
    "for topic_idx, topic in enumerate(lda.components_):\n",
    "    message = \"Topic #%d: \" % topic_idx\n",
    "    message += \", \".join([feature_names[i] for i in topic.argsort()])\n",
    "    print(message)\n",
    "pyLDAvis.enable_notebook()\n",
    "pyLDAvis.sklearn.prepare(lda, TFM, vectorizer)"
   ]
  },
  {
   "cell_type": "markdown",
   "metadata": {},
   "source": [
    "### 3-3  최적의 Topic 수를 선정 및 선정 이유\n",
    "    최종적으로 제가 선정한 토픽의 수는 3개입니다.  \n",
    "    왜냐하면, 토픽의 수가 5개, 4개인 경우에는 예상 용어 빈도가 표시되지 않는 토픽이 있음을 확인했습니다.  \n",
    "    이에 예상 용어 빈도가 측정되지 않는 토픽의 경우에 토픽의 의미가 없을 것이라 판단하였습니다.\n",
    "    이에 토픽의 수를 줄였고, 토픽의 수가 3개인 경우에는 겹치는 단어가 없으며, 모두 예상 용어 빈도가 존재하기 때문에\n",
    "    최종적으로 토픽의 수를 3개로 선정했습니다."
   ]
  },
  {
   "cell_type": "markdown",
   "metadata": {},
   "source": [
    "### 3-4 최종 Topic Labeling (Keyword들을 고려하여 적합한 이름을 부여)\n",
    "\n",
    "\n",
    "    최종적으로 선정한 3개의 토픽의 경우에 모든 토픽에서 다음과 같은 용어들이 예상 용어 빈도가 표시 되었습니다.\n",
    "    이에 예상 빈도수가 높은 단어를 선택했습니다.\n",
    "    토픽 1 : cake, bread, eat, rice\n",
    "    토픽 2 : kitty \n",
    "    토픽 3 : cute \n",
    "    \n",
    "    \n",
    "    토픽 1에 대해서는 모든 단어의 빈도수가 동일하므로 모든 단어를 사용하여 eat rice cake and rice bread (한글 : 쌀 간식을 먹자!)\n",
    "\n",
    "    토픽 2와 3의 경우에는 하나의 키워드씩만 선택할 수 있었습니다.\n",
    "    토픽 2의 경우 kitty는 명사로 취급하여 용어 그대로 kitty를, 토픽3의 경우에 cute는 형용사 이기때문에 \n",
    "    전체 명사(hamster, bread, cake, kitty) 중 term frequency가 높은 순서로 cute와 어울릴 수 있는 단어를 선택하려고 했습니다.\n",
    "    (bread - cake, hamster, kitty 순으로 term frequency가 높았고, bread와 cake는 cute와 어울리지 않기때문에 제외했습니다.)\n",
    "    하지만, 명사를 임의로 선택할 시에는 특정 문서와 완전히 같은 토픽이 되기 때문에 추가 단어를 선택하지 않았습니다.\n",
    "    \n",
    "    최종 Topic Labeling\n",
    "    \n",
    "    토픽 1 : eat rice bread and rice cake \n",
    "    토픽 2 : kitty\n",
    "    토픽 3 : cute \n",
    "    "
   ]
  },
  {
   "cell_type": "markdown",
   "metadata": {},
   "source": [
    "### 4. 추가 활동\n",
    "    * term-topic Matrix\n",
    "    * docs-topic Matrix"
   ]
  },
  {
   "cell_type": "code",
   "execution_count": 82,
   "metadata": {},
   "outputs": [
    {
     "data": {
      "text/html": [
       "<div>\n",
       "<style scoped>\n",
       "    .dataframe tbody tr th:only-of-type {\n",
       "        vertical-align: middle;\n",
       "    }\n",
       "\n",
       "    .dataframe tbody tr th {\n",
       "        vertical-align: top;\n",
       "    }\n",
       "\n",
       "    .dataframe thead th {\n",
       "        text-align: right;\n",
       "    }\n",
       "</style>\n",
       "<table border=\"1\" class=\"dataframe\">\n",
       "  <thead>\n",
       "    <tr style=\"text-align: right;\">\n",
       "      <th></th>\n",
       "      <th>Topic1</th>\n",
       "      <th>Topic2</th>\n",
       "      <th>Topic3</th>\n",
       "    </tr>\n",
       "  </thead>\n",
       "  <tbody>\n",
       "    <tr>\n",
       "      <th>bread</th>\n",
       "      <td>2.334194</td>\n",
       "      <td>0.336154</td>\n",
       "      <td>1.329652</td>\n",
       "    </tr>\n",
       "    <tr>\n",
       "      <th>cake</th>\n",
       "      <td>2.344558</td>\n",
       "      <td>0.335732</td>\n",
       "      <td>1.319710</td>\n",
       "    </tr>\n",
       "    <tr>\n",
       "      <th>cute</th>\n",
       "      <td>0.334727</td>\n",
       "      <td>0.407893</td>\n",
       "      <td>2.257381</td>\n",
       "    </tr>\n",
       "    <tr>\n",
       "      <th>eat</th>\n",
       "      <td>2.334182</td>\n",
       "      <td>0.336154</td>\n",
       "      <td>1.329664</td>\n",
       "    </tr>\n",
       "    <tr>\n",
       "      <th>hamster</th>\n",
       "      <td>0.334760</td>\n",
       "      <td>1.332826</td>\n",
       "      <td>1.332413</td>\n",
       "    </tr>\n",
       "    <tr>\n",
       "      <th>kitty</th>\n",
       "      <td>0.334177</td>\n",
       "      <td>2.316597</td>\n",
       "      <td>0.349227</td>\n",
       "    </tr>\n",
       "    <tr>\n",
       "      <th>rice</th>\n",
       "      <td>2.330650</td>\n",
       "      <td>0.334852</td>\n",
       "      <td>0.334499</td>\n",
       "    </tr>\n",
       "  </tbody>\n",
       "</table>\n",
       "</div>"
      ],
      "text/plain": [
       "           Topic1    Topic2    Topic3\n",
       "bread    2.334194  0.336154  1.329652\n",
       "cake     2.344558  0.335732  1.319710\n",
       "cute     0.334727  0.407893  2.257381\n",
       "eat      2.334182  0.336154  1.329664\n",
       "hamster  0.334760  1.332826  1.332413\n",
       "kitty    0.334177  2.316597  0.349227\n",
       "rice     2.330650  0.334852  0.334499"
      ]
     },
     "execution_count": 82,
     "metadata": {},
     "output_type": "execute_result"
    }
   ],
   "source": [
    "term_topic = pd.DataFrame(lda.components_.tolist(),columns=vectorizer.get_feature_names(), index = ['Topic1','Topic2','Topic3']).transpose()\n",
    "term_topic"
   ]
  },
  {
   "cell_type": "code",
   "execution_count": 83,
   "metadata": {},
   "outputs": [
    {
     "data": {
      "text/html": [
       "<div>\n",
       "<style scoped>\n",
       "    .dataframe tbody tr th:only-of-type {\n",
       "        vertical-align: middle;\n",
       "    }\n",
       "\n",
       "    .dataframe tbody tr th {\n",
       "        vertical-align: top;\n",
       "    }\n",
       "\n",
       "    .dataframe thead th {\n",
       "        text-align: right;\n",
       "    }\n",
       "</style>\n",
       "<table border=\"1\" class=\"dataframe\">\n",
       "  <thead>\n",
       "    <tr style=\"text-align: right;\">\n",
       "      <th></th>\n",
       "      <th>Topic1</th>\n",
       "      <th>Topic2</th>\n",
       "      <th>Topic3</th>\n",
       "    </tr>\n",
       "  </thead>\n",
       "  <tbody>\n",
       "    <tr>\n",
       "      <th>bread</th>\n",
       "      <td>0.225586</td>\n",
       "      <td>0.062248</td>\n",
       "      <td>0.161120</td>\n",
       "    </tr>\n",
       "    <tr>\n",
       "      <th>cake</th>\n",
       "      <td>0.226588</td>\n",
       "      <td>0.062170</td>\n",
       "      <td>0.159916</td>\n",
       "    </tr>\n",
       "    <tr>\n",
       "      <th>cute</th>\n",
       "      <td>0.032349</td>\n",
       "      <td>0.075533</td>\n",
       "      <td>0.273537</td>\n",
       "    </tr>\n",
       "    <tr>\n",
       "      <th>eat</th>\n",
       "      <td>0.225585</td>\n",
       "      <td>0.062248</td>\n",
       "      <td>0.161122</td>\n",
       "    </tr>\n",
       "    <tr>\n",
       "      <th>hamster</th>\n",
       "      <td>0.032353</td>\n",
       "      <td>0.246810</td>\n",
       "      <td>0.161455</td>\n",
       "    </tr>\n",
       "    <tr>\n",
       "      <th>kitty</th>\n",
       "      <td>0.032296</td>\n",
       "      <td>0.428983</td>\n",
       "      <td>0.042317</td>\n",
       "    </tr>\n",
       "    <tr>\n",
       "      <th>rice</th>\n",
       "      <td>0.225243</td>\n",
       "      <td>0.062007</td>\n",
       "      <td>0.040533</td>\n",
       "    </tr>\n",
       "  </tbody>\n",
       "</table>\n",
       "</div>"
      ],
      "text/plain": [
       "           Topic1    Topic2    Topic3\n",
       "bread    0.225586  0.062248  0.161120\n",
       "cake     0.226588  0.062170  0.159916\n",
       "cute     0.032349  0.075533  0.273537\n",
       "eat      0.225585  0.062248  0.161122\n",
       "hamster  0.032353  0.246810  0.161455\n",
       "kitty    0.032296  0.428983  0.042317\n",
       "rice     0.225243  0.062007  0.040533"
      ]
     },
     "execution_count": 83,
     "metadata": {},
     "output_type": "execute_result"
    }
   ],
   "source": [
    "for topics in term_topic.columns:\n",
    "    term_topic[topics] = term_topic[topics]/term_topic[topics].sum()\n",
    "term_topic"
   ]
  },
  {
   "cell_type": "code",
   "execution_count": 84,
   "metadata": {},
   "outputs": [
    {
     "data": {
      "text/html": [
       "<div>\n",
       "<style scoped>\n",
       "    .dataframe tbody tr th:only-of-type {\n",
       "        vertical-align: middle;\n",
       "    }\n",
       "\n",
       "    .dataframe tbody tr th {\n",
       "        vertical-align: top;\n",
       "    }\n",
       "\n",
       "    .dataframe thead th {\n",
       "        text-align: right;\n",
       "    }\n",
       "</style>\n",
       "<table border=\"1\" class=\"dataframe\">\n",
       "  <thead>\n",
       "    <tr style=\"text-align: right;\">\n",
       "      <th></th>\n",
       "      <th>Topic1</th>\n",
       "      <th>Topic2</th>\n",
       "      <th>Topic3</th>\n",
       "    </tr>\n",
       "  </thead>\n",
       "  <tbody>\n",
       "    <tr>\n",
       "      <th>Docs1</th>\n",
       "      <td>NaN</td>\n",
       "      <td>NaN</td>\n",
       "      <td>NaN</td>\n",
       "    </tr>\n",
       "    <tr>\n",
       "      <th>Docs2</th>\n",
       "      <td>NaN</td>\n",
       "      <td>NaN</td>\n",
       "      <td>NaN</td>\n",
       "    </tr>\n",
       "    <tr>\n",
       "      <th>Docs3</th>\n",
       "      <td>NaN</td>\n",
       "      <td>NaN</td>\n",
       "      <td>NaN</td>\n",
       "    </tr>\n",
       "    <tr>\n",
       "      <th>Docs4</th>\n",
       "      <td>NaN</td>\n",
       "      <td>NaN</td>\n",
       "      <td>NaN</td>\n",
       "    </tr>\n",
       "    <tr>\n",
       "      <th>Docs5</th>\n",
       "      <td>NaN</td>\n",
       "      <td>NaN</td>\n",
       "      <td>NaN</td>\n",
       "    </tr>\n",
       "    <tr>\n",
       "      <th>Docs6</th>\n",
       "      <td>NaN</td>\n",
       "      <td>NaN</td>\n",
       "      <td>NaN</td>\n",
       "    </tr>\n",
       "  </tbody>\n",
       "</table>\n",
       "</div>"
      ],
      "text/plain": [
       "      Topic1 Topic2 Topic3\n",
       "Docs1    NaN    NaN    NaN\n",
       "Docs2    NaN    NaN    NaN\n",
       "Docs3    NaN    NaN    NaN\n",
       "Docs4    NaN    NaN    NaN\n",
       "Docs5    NaN    NaN    NaN\n",
       "Docs6    NaN    NaN    NaN"
      ]
     },
     "execution_count": 84,
     "metadata": {},
     "output_type": "execute_result"
    }
   ],
   "source": [
    "docs_topic = pd.DataFrame(index = docs_index,columns = ['Topic1','Topic2','Topic3'])\n",
    "docs_topic"
   ]
  },
  {
   "cell_type": "code",
   "execution_count": 85,
   "metadata": {},
   "outputs": [],
   "source": [
    "Topics =   ['Topic1','Topic2','Topic3']"
   ]
  },
  {
   "cell_type": "code",
   "execution_count": 87,
   "metadata": {},
   "outputs": [],
   "source": [
    "for Topic in Topics:\n",
    "    for doc,doc_index in zip(docs,docs_index):\n",
    "        P_dz = 0\n",
    "        for term in doc.split():\n",
    "            \n",
    "            P_dz += term_topic.loc[term,Topic]\n",
    "        docs_topic.loc[doc_index,Topic] = P_dz"
   ]
  },
  {
   "cell_type": "code",
   "execution_count": 88,
   "metadata": {},
   "outputs": [
    {
     "data": {
      "text/html": [
       "<div>\n",
       "<style scoped>\n",
       "    .dataframe tbody tr th:only-of-type {\n",
       "        vertical-align: middle;\n",
       "    }\n",
       "\n",
       "    .dataframe tbody tr th {\n",
       "        vertical-align: top;\n",
       "    }\n",
       "\n",
       "    .dataframe thead th {\n",
       "        text-align: right;\n",
       "    }\n",
       "</style>\n",
       "<table border=\"1\" class=\"dataframe\">\n",
       "  <thead>\n",
       "    <tr style=\"text-align: right;\">\n",
       "      <th></th>\n",
       "      <th>Topic1</th>\n",
       "      <th>Topic2</th>\n",
       "      <th>Topic3</th>\n",
       "    </tr>\n",
       "  </thead>\n",
       "  <tbody>\n",
       "    <tr>\n",
       "      <th>Docs1</th>\n",
       "      <td>0.064646</td>\n",
       "      <td>0.504516</td>\n",
       "      <td>0.315855</td>\n",
       "    </tr>\n",
       "    <tr>\n",
       "      <th>Docs2</th>\n",
       "      <td>0.677416</td>\n",
       "      <td>0.186426</td>\n",
       "      <td>0.36157</td>\n",
       "    </tr>\n",
       "    <tr>\n",
       "      <th>Docs3</th>\n",
       "      <td>0.064649</td>\n",
       "      <td>0.675793</td>\n",
       "      <td>0.203772</td>\n",
       "    </tr>\n",
       "    <tr>\n",
       "      <th>Docs4</th>\n",
       "      <td>0.451171</td>\n",
       "      <td>0.124497</td>\n",
       "      <td>0.322242</td>\n",
       "    </tr>\n",
       "    <tr>\n",
       "      <th>Docs5</th>\n",
       "      <td>0.677417</td>\n",
       "      <td>0.186426</td>\n",
       "      <td>0.361569</td>\n",
       "    </tr>\n",
       "    <tr>\n",
       "      <th>Docs6</th>\n",
       "      <td>0.74246</td>\n",
       "      <td>0.50901</td>\n",
       "      <td>0.91715</td>\n",
       "    </tr>\n",
       "  </tbody>\n",
       "</table>\n",
       "</div>"
      ],
      "text/plain": [
       "         Topic1    Topic2    Topic3\n",
       "Docs1  0.064646  0.504516  0.315855\n",
       "Docs2  0.677416  0.186426   0.36157\n",
       "Docs3  0.064649  0.675793  0.203772\n",
       "Docs4  0.451171  0.124497  0.322242\n",
       "Docs5  0.677417  0.186426  0.361569\n",
       "Docs6   0.74246   0.50901   0.91715"
      ]
     },
     "execution_count": 88,
     "metadata": {},
     "output_type": "execute_result"
    }
   ],
   "source": [
    "docs_topic"
   ]
  },
  {
   "cell_type": "code",
   "execution_count": 89,
   "metadata": {},
   "outputs": [],
   "source": [
    "for i in docs_topic.columns:\n",
    "    docs_topic[i] = docs_topic[i]/docs_topic[i].sum()"
   ]
  },
  {
   "cell_type": "code",
   "execution_count": 90,
   "metadata": {},
   "outputs": [],
   "source": [
    "docs_topic = docs_topic.astype('float')\n",
    "docs_topic= docs_topic.round(3)"
   ]
  },
  {
   "cell_type": "code",
   "execution_count": 91,
   "metadata": {
    "scrolled": false
   },
   "outputs": [
    {
     "data": {
      "text/html": [
       "<div>\n",
       "<style scoped>\n",
       "    .dataframe tbody tr th:only-of-type {\n",
       "        vertical-align: middle;\n",
       "    }\n",
       "\n",
       "    .dataframe tbody tr th {\n",
       "        vertical-align: top;\n",
       "    }\n",
       "\n",
       "    .dataframe thead th {\n",
       "        text-align: right;\n",
       "    }\n",
       "</style>\n",
       "<table border=\"1\" class=\"dataframe\">\n",
       "  <thead>\n",
       "    <tr style=\"text-align: right;\">\n",
       "      <th></th>\n",
       "      <th>Topic1</th>\n",
       "      <th>Topic2</th>\n",
       "      <th>Topic3</th>\n",
       "    </tr>\n",
       "  </thead>\n",
       "  <tbody>\n",
       "    <tr>\n",
       "      <th>Docs1</th>\n",
       "      <td>0.024</td>\n",
       "      <td>0.231</td>\n",
       "      <td>0.127</td>\n",
       "    </tr>\n",
       "    <tr>\n",
       "      <th>Docs2</th>\n",
       "      <td>0.253</td>\n",
       "      <td>0.085</td>\n",
       "      <td>0.146</td>\n",
       "    </tr>\n",
       "    <tr>\n",
       "      <th>Docs3</th>\n",
       "      <td>0.024</td>\n",
       "      <td>0.309</td>\n",
       "      <td>0.082</td>\n",
       "    </tr>\n",
       "    <tr>\n",
       "      <th>Docs4</th>\n",
       "      <td>0.168</td>\n",
       "      <td>0.057</td>\n",
       "      <td>0.130</td>\n",
       "    </tr>\n",
       "    <tr>\n",
       "      <th>Docs5</th>\n",
       "      <td>0.253</td>\n",
       "      <td>0.085</td>\n",
       "      <td>0.146</td>\n",
       "    </tr>\n",
       "    <tr>\n",
       "      <th>Docs6</th>\n",
       "      <td>0.277</td>\n",
       "      <td>0.233</td>\n",
       "      <td>0.369</td>\n",
       "    </tr>\n",
       "  </tbody>\n",
       "</table>\n",
       "</div>"
      ],
      "text/plain": [
       "       Topic1  Topic2  Topic3\n",
       "Docs1   0.024   0.231   0.127\n",
       "Docs2   0.253   0.085   0.146\n",
       "Docs3   0.024   0.309   0.082\n",
       "Docs4   0.168   0.057   0.130\n",
       "Docs5   0.253   0.085   0.146\n",
       "Docs6   0.277   0.233   0.369"
      ]
     },
     "execution_count": 91,
     "metadata": {},
     "output_type": "execute_result"
    }
   ],
   "source": [
    "docs_topic\n"
   ]
  },
  {
   "cell_type": "markdown",
   "metadata": {},
   "source": [
    "    토픽 1과 가장 관련성이 높은 문서는 Docs6(cute hamster eat bread cake)이고 그 다음으로는 Docs2(eat rice cake)와 Docs5(rice bread cake)입니다.\n",
    "    세 문서 모두 토픽1에서 빈도수가 높은 단어를 3개씩 가지고 있으며, Docs6의 경우에 문서의 단어가 많아 Top7단어에 많이 포함되기 때문이라고 생각합니다.\n",
    "    \n",
    "    그리고 Topic2 (kitty)와 관련성이 높은 문서는 Docs3(kitty hamster)이고, 그 다음으로는 Docs1(cute kitty)입니다.\n",
    "    이 두 문서에서 kitty가 공통적으로 포함되어 있지만 관련성에 차이가 있는 것은 hamster 단어가 전체 문서에서 kitty보다 많이 존재하기 때문이라고 생각합니다.\n",
    "    \n",
    "    마지막으로 Topic3(cute)와 관련성이 가장 높은 단어는 Docs6(cute hamster eat bread cake)이고, \n",
    "    해당 문서는 cute단어를 포함하며 단어 언급 상위 빈도수가 많이 포함되어 있기 때문에 가장 연관성이 높은 값이 나왔다고 생각합니다.\n",
    "    "
   ]
  }
 ],
 "metadata": {
  "kernelspec": {
   "display_name": "Python 3",
   "language": "python",
   "name": "python3"
  },
  "language_info": {
   "codemirror_mode": {
    "name": "ipython",
    "version": 3
   },
   "file_extension": ".py",
   "mimetype": "text/x-python",
   "name": "python",
   "nbconvert_exporter": "python",
   "pygments_lexer": "ipython3",
   "version": "3.7.6"
  }
 },
 "nbformat": 4,
 "nbformat_minor": 4
}
